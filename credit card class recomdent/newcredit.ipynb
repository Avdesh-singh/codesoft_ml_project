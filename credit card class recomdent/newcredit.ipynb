{
 "cells": [
  {
   "cell_type": "code",
   "execution_count": 2,
   "id": "cf8daed0-ba68-40cb-8d15-2bab8540f1ec",
   "metadata": {},
   "outputs": [
    {
     "name": "stdout",
     "output_type": "stream",
     "text": [
      "   Time        V1  Amount  Class\n",
      "0   0.0 -1.359807  149.62      1\n",
      "1   0.0  1.191857    2.69      0\n",
      "2   1.0 -1.358354  378.66      0\n",
      "3   1.0 -0.966272  123.50      0\n",
      "4   2.0 -1.158233   69.99      0\n"
     ]
    }
   ],
   "source": [
    "import pandas as pd\n",
    "data = pd.read_csv('creditcard2.csv')\n",
    "print(data.head())\n"
   ]
  },
  {
   "cell_type": "code",
   "execution_count": 3,
   "id": "22c08922",
   "metadata": {},
   "outputs": [
    {
     "name": "stdout",
     "output_type": "stream",
     "text": [
      "<class 'pandas.core.frame.DataFrame'>\n",
      "RangeIndex: 284807 entries, 0 to 284806\n",
      "Data columns (total 4 columns):\n",
      " #   Column  Non-Null Count   Dtype  \n",
      "---  ------  --------------   -----  \n",
      " 0   Time    284807 non-null  float64\n",
      " 1   V1      284807 non-null  float64\n",
      " 2   Amount  284807 non-null  float64\n",
      " 3   Class   284807 non-null  int64  \n",
      "dtypes: float64(3), int64(1)\n",
      "memory usage: 8.7 MB\n",
      "None\n",
      "                Time            V1         Amount          Class\n",
      "count  284807.000000  2.848070e+05  284807.000000  284807.000000\n",
      "mean    94813.859575  1.759061e-12      88.349619       0.002616\n",
      "std     47488.145955  1.958696e+00     250.120109       0.051078\n",
      "min         0.000000 -5.640751e+01       0.000000       0.000000\n",
      "25%     54201.500000 -9.203734e-01       5.600000       0.000000\n",
      "50%     84692.000000  1.810880e-02      22.000000       0.000000\n",
      "75%    139320.500000  1.315642e+00      77.165000       0.000000\n",
      "max    172792.000000  2.454930e+00   25691.160000       1.000000\n",
      "Time      0\n",
      "V1        0\n",
      "Amount    0\n",
      "Class     0\n",
      "dtype: int64\n"
     ]
    }
   ],
   "source": [
    "print(data.info())\n"
   ]
  },
  {
   "cell_type": "code",
   "execution_count": 4,
   "id": "fc55abb9",
   "metadata": {},
   "outputs": [
    {
     "name": "stdout",
     "output_type": "stream",
     "text": [
      "                Time            V1         Amount          Class\n",
      "count  284807.000000  2.848070e+05  284807.000000  284807.000000\n",
      "mean    94813.859575  1.759061e-12      88.349619       0.002616\n",
      "std     47488.145955  1.958696e+00     250.120109       0.051078\n",
      "min         0.000000 -5.640751e+01       0.000000       0.000000\n",
      "25%     54201.500000 -9.203734e-01       5.600000       0.000000\n",
      "50%     84692.000000  1.810880e-02      22.000000       0.000000\n",
      "75%    139320.500000  1.315642e+00      77.165000       0.000000\n",
      "max    172792.000000  2.454930e+00   25691.160000       1.000000\n",
      "Time      0\n",
      "V1        0\n",
      "Amount    0\n",
      "Class     0\n",
      "dtype: int64\n"
     ]
    }
   ],
   "source": [
    "print(data.describe())\n",
    "print(data.isnull().sum())"
   ]
  },
  {
   "cell_type": "code",
   "execution_count": 5,
   "id": "a18bc2f4-f436-4802-8af6-229793643a55",
   "metadata": {},
   "outputs": [],
   "source": [
    "from sklearn.preprocessing import StandardScaler\n",
    "\n",
    "scaler = StandardScaler()\n",
    "data[['Time', 'V1', 'Amount']] = scaler.fit_transform(data[['Time', 'V1', 'Amount']])"
   ]
  },
  {
   "cell_type": "code",
   "execution_count": 6,
   "id": "70d7f608",
   "metadata": {},
   "outputs": [],
   "source": [
    "from sklearn.model_selection import train_test_split\n",
    "from sklearn.linear_model import LogisticRegression\n",
    "from sklearn.metrics import classification_report, confusion_matrix\n",
    "\n",
    "X = data.drop('Time',axis=1)\n",
    "y = data['Class']\n",
    "\n"
   ]
  },
  {
   "cell_type": "code",
   "execution_count": 7,
   "id": "d195f468",
   "metadata": {},
   "outputs": [],
   "source": [
    "# training model \n",
    "X_train, X_test, y_train, y_test = train_test_split(X, y, test_size=0.3, random_state=42)"
   ]
  },
  {
   "cell_type": "code",
   "execution_count": 8,
   "id": "cb2a5502-96b2-42e6-8926-8246fd778e10",
   "metadata": {},
   "outputs": [
    {
     "name": "stdout",
     "output_type": "stream",
     "text": [
      "              precision    recall  f1-score   support\n",
      "\n",
      "           0       1.00      1.00      1.00     85229\n",
      "           1       1.00      1.00      1.00       214\n",
      "\n",
      "    accuracy                           1.00     85443\n",
      "   macro avg       1.00      1.00      1.00     85443\n",
      "weighted avg       1.00      1.00      1.00     85443\n",
      "\n",
      "[[85229     0]\n",
      " [    0   214]]\n"
     ]
    }
   ],
   "source": [
    "\n",
    "### apply regession to train model\n",
    "lr = LogisticRegression()\n",
    "lr.fit(X_train, y_train)\n",
    "y_pred = lr.predict(X_test)\n",
    "\n",
    "print(classification_report(y_test, y_pred))\n",
    "print(confusion_matrix(y_test, y_pred))"
   ]
  },
  {
   "cell_type": "code",
   "execution_count": 9,
   "id": "2201a722-5242-40f4-afec-023b8bce2cf1",
   "metadata": {},
   "outputs": [
    {
     "name": "stdout",
     "output_type": "stream",
     "text": [
      "              precision    recall  f1-score   support\n",
      "\n",
      "           0       1.00      1.00      1.00     85229\n",
      "           1       1.00      1.00      1.00       214\n",
      "\n",
      "    accuracy                           1.00     85443\n",
      "   macro avg       1.00      1.00      1.00     85443\n",
      "weighted avg       1.00      1.00      1.00     85443\n",
      "\n",
      "[[85229     0]\n",
      " [    0   214]]\n"
     ]
    }
   ],
   "source": [
    "from sklearn.tree import DecisionTreeClassifier\n",
    "\n",
    "dt = DecisionTreeClassifier()\n",
    "dt.fit(X_train, y_train)\n",
    "y_pred = dt.predict(X_test)\n",
    "\n",
    "print(classification_report(y_test, y_pred))\n",
    "print(confusion_matrix(y_test, y_pred))"
   ]
  },
  {
   "cell_type": "code",
   "execution_count": 10,
   "id": "56539224",
   "metadata": {},
   "outputs": [
    {
     "name": "stdout",
     "output_type": "stream",
     "text": [
      "[[85229     0]\n",
      " [    0   214]]\n",
      "              precision    recall  f1-score   support\n",
      "\n",
      "           0       1.00      1.00      1.00     85229\n",
      "           1       1.00      1.00      1.00       214\n",
      "\n",
      "    accuracy                           1.00     85443\n",
      "   macro avg       1.00      1.00      1.00     85443\n",
      "weighted avg       1.00      1.00      1.00     85443\n",
      "\n"
     ]
    }
   ],
   "source": [
    "from sklearn.ensemble import RandomForestClassifier\n",
    "from sklearn.metrics import classification_report, confusion_matrix\n",
    "\n",
    "# Train a Random Forest model\n",
    "rd = RandomForestClassifier(n_estimators=10, random_state=42)\n",
    "rd.fit(X_train, y_train)\n",
    "\n",
    "# Make predictions\n",
    "y_pred = rd.predict(X_test)\n",
    "\n",
    "# Evaluate the model\n",
    "print(confusion_matrix(y_test, y_pred))\n",
    "print(classification_report(y_test, y_pred))"
   ]
  },
  {
   "cell_type": "code",
   "execution_count": 11,
   "id": "d5d32848-83c1-4916-89de-e43f14fe38a6",
   "metadata": {},
   "outputs": [
    {
     "data": {
      "image/png": "[encoded data removed]",
      "text/plain": [
       "<Figure size 640x480 with 2 Axes>"
      ]
     },
     "metadata": {},
     "output_type": "display_data"
    }
   ],
   "source": [
    "import matplotlib.pyplot as plt\n",
    "import seaborn as sns\n",
    "\n",
    "# Plot confusion matrix\n",
    "conf_matrix = confusion_matrix(y_test, y_pred)\n",
    "sns.heatmap(conf_matrix, annot=True, fmt='d', cmap='Blues')\n",
    "plt.xlabel('Predicted')\n",
    "plt.ylabel('Actual')\n",
    "plt.show()\n"
   ]
  },
  {
   "cell_type": "code",
   "execution_count": 12,
   "id": "70f303e3-f0aa-42e3-819d-d51c85a1ad30",
   "metadata": {},
   "outputs": [
    {
     "name": "stdout",
     "output_type": "stream",
     "text": [
      "43428     1\n",
      "49906     0\n",
      "29474     0\n",
      "276481    0\n",
      "278846    0\n",
      "         ..\n",
      "180795    0\n",
      "259979    0\n",
      "21885     0\n",
      "217812    0\n",
      "86348     0\n",
      "Name: Class, Length: 85443, dtype: int64\n"
     ]
    }
   ],
   "source": [
    "print(y_test)"
   ]
  },
  {
   "cell_type": "code",
   "execution_count": 13,
   "id": "7d42e324-0e16-4ea0-99e1-299bdb441b40",
   "metadata": {},
   "outputs": [],
   "source": [
    "# Prediction function\n",
    "def predict_class(plot_summary, model):\n",
    "    plot_summary_tfidf = scaler.transform([plot_summary])\n",
    "    predicted_class = model.predict(plot_summary_tfidf)\n",
    "    return predicted_class[0]"
   ]
  },
  {
   "cell_type": "code",
   "execution_count": 16,
   "id": "a082cad7-0831-4705-89a3-b4ba4c4a88af",
   "metadata": {},
   "outputs": [
    {
     "name": "stdout",
     "output_type": "stream",
     "text": [
      "Prediction of card class (Logistic Regression): 0\n",
      "Prediction of card class (DecisionTreeClassifier): 0\n",
      "Prediction of card class (random forest): 0\n"
     ]
    },
    {
     "name": "stderr",
     "output_type": "stream",
     "text": [
      "c:\\Users\\awadh\\AppData\\Local\\Programs\\Python\\Python311\\Lib\\site-packages\\sklearn\\base.py:493: UserWarning: X does not have valid feature names, but StandardScaler was fitted with feature names\n",
      "  warnings.warn(\n",
      "c:\\Users\\awadh\\AppData\\Local\\Programs\\Python\\Python311\\Lib\\site-packages\\sklearn\\base.py:493: UserWarning: X does not have valid feature names, but LogisticRegression was fitted with feature names\n",
      "  warnings.warn(\n",
      "c:\\Users\\awadh\\AppData\\Local\\Programs\\Python\\Python311\\Lib\\site-packages\\sklearn\\base.py:493: UserWarning: X does not have valid feature names, but StandardScaler was fitted with feature names\n",
      "  warnings.warn(\n",
      "c:\\Users\\awadh\\AppData\\Local\\Programs\\Python\\Python311\\Lib\\site-packages\\sklearn\\base.py:493: UserWarning: X does not have valid feature names, but DecisionTreeClassifier was fitted with feature names\n",
      "  warnings.warn(\n",
      "c:\\Users\\awadh\\AppData\\Local\\Programs\\Python\\Python311\\Lib\\site-packages\\sklearn\\base.py:493: UserWarning: X does not have valid feature names, but StandardScaler was fitted with feature names\n",
      "  warnings.warn(\n",
      "c:\\Users\\awadh\\AppData\\Local\\Programs\\Python\\Python311\\Lib\\site-packages\\sklearn\\base.py:493: UserWarning: X does not have valid feature names, but RandomForestClassifier was fitted with feature names\n",
      "  warnings.warn(\n"
     ]
    }
   ],
   "source": [
    "# Example prediction\n",
    "new_plot = [37\t,1.295667621\t,0.99]\n",
    "\n",
    "print(\"Prediction of card class (Logistic Regression):\", predict_class(new_plot, lr))\n",
    "print(\"Prediction of card class (DecisionTreeClassifier):\", predict_class(new_plot, dt))\n",
    "print(\"Prediction of card class (random forest):\", predict_class(new_plot, rd))"
   ]
  }
 ],
 "metadata": {
  "kernelspec": {
   "display_name": "Python 3 (ipykernel)",
   "language": "python",
   "name": "python3"
  },
  "language_info": {
   "codemirror_mode": {
    "name": "ipython",
    "version": 3
   },
   "file_extension": ".py",
   "mimetype": "text/x-python",
   "name": "python",
   "nbconvert_exporter": "python",
   "pygments_lexer": "ipython3",
   "version": "3.11.3"
  }
 },
 "nbformat": 4,
 "nbformat_minor": 5
}
